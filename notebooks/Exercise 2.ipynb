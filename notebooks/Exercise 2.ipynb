{
 "cells": [
  {
   "cell_type": "code",
   "execution_count": 4,
   "metadata": {
    "collapsed": true
   },
   "outputs": [],
   "source": [
    "import numpy as np\n",
    "from models.sammon import sammon, sammons_stress\n",
    "from sklearn.datasets import make_multilabel_classification"
   ]
  },
  {
   "cell_type": "markdown",
   "source": [
    "This notebook will test sammon mapping on a toy data set, and print the final Sammon's error `E` achieved."
   ],
   "metadata": {
    "collapsed": false,
    "pycharm": {
     "name": "#%% md\n"
    }
   }
  },
  {
   "cell_type": "code",
   "execution_count": 5,
   "outputs": [
    {
     "name": "stdout",
     "output_type": "stream",
     "text": [
      "E after completing the function call is 0.3528\n"
     ]
    }
   ],
   "source": [
    "X, y = make_multilabel_classification(n_samples=1000, n_features=20, n_classes=1, n_labels=1)\n",
    "Xmap, E = sammon(X, max_iter=200, epsilon=0.5, verbose=1)\n",
    "\n",
    "print(f'E after completing the function call is {np.around(E, decimals=4)}')"
   ],
   "metadata": {
    "collapsed": false,
    "pycharm": {
     "name": "#%%\n"
    }
   }
  }
 ],
 "metadata": {
  "kernelspec": {
   "display_name": "Python 3",
   "language": "python",
   "name": "python3"
  },
  "language_info": {
   "codemirror_mode": {
    "name": "ipython",
    "version": 2
   },
   "file_extension": ".py",
   "mimetype": "text/x-python",
   "name": "python",
   "nbconvert_exporter": "python",
   "pygments_lexer": "ipython2",
   "version": "2.7.6"
  }
 },
 "nbformat": 4,
 "nbformat_minor": 0
}